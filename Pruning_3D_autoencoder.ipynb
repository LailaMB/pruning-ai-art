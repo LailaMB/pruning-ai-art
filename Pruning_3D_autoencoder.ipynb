{
  "nbformat": 4,
  "nbformat_minor": 0,
  "metadata": {
    "colab": {
      "name": "Pruning_3D_autoencoder.ipynb.ipynb",
      "provenance": [],
      "collapsed_sections": [
        "Xm_bZ1Al_9Q2",
        "EcU7sf_UBAQ2",
        "8vIoxPH-BV-7",
        "cBGgLnQ2izwI"
      ]
    },
    "kernelspec": {
      "name": "python3",
      "display_name": "Python 3"
    },
    "language_info": {
      "name": "python"
    },
    "accelerator": "GPU"
  },
  "cells": [
    {
      "cell_type": "markdown",
      "metadata": {
        "id": "XDZydQuu7b7h"
      },
      "source": [
        "# Pruning Autoencoder 3D (voxel)"
      ]
    },
    {
      "cell_type": "markdown",
      "metadata": {
        "id": "Xm_bZ1Al_9Q2"
      },
      "source": [
        "### Convert data\n",
        "\n",
        "This code works on 3D voxel data in the format of .asc or .txt. In case you have a 3D object in different format you can use this website for conversion https://drububu.com/miscellaneous/voxelizer/?out=obj "
      ]
    },
    {
      "cell_type": "code",
      "metadata": {
        "colab": {
          "base_uri": "https://localhost:8080/",
          "height": 1000
        },
        "id": "59kBoI5j_7-k",
        "outputId": "01fa4fdd-f4ab-4abc-9bb9-6c3c48278814"
      },
      "source": [
        "!pip install pptk PyntCloud\n",
        "!pip install voxelfuse"
      ],
      "execution_count": null,
      "outputs": [
        {
          "output_type": "stream",
          "name": "stdout",
          "text": [
            "Collecting pptk\n",
            "  Downloading pptk-0.1.0-cp37-none-manylinux1_x86_64.whl (24.8 MB)\n",
            "\u001b[K     |████████████████████████████████| 24.8 MB 1.4 MB/s \n",
            "\u001b[?25hCollecting PyntCloud\n",
            "  Downloading pyntcloud-0.1.5-py3-none-any.whl (346 kB)\n",
            "\u001b[K     |████████████████████████████████| 346 kB 59.4 MB/s \n",
            "\u001b[?25hRequirement already satisfied: numpy in /usr/local/lib/python3.7/dist-packages (from pptk) (1.19.5)\n",
            "Requirement already satisfied: scipy in /usr/local/lib/python3.7/dist-packages (from PyntCloud) (1.4.1)\n",
            "Requirement already satisfied: pandas in /usr/local/lib/python3.7/dist-packages (from PyntCloud) (1.1.5)\n",
            "Requirement already satisfied: pytz>=2017.2 in /usr/local/lib/python3.7/dist-packages (from pandas->PyntCloud) (2018.9)\n",
            "Requirement already satisfied: python-dateutil>=2.7.3 in /usr/local/lib/python3.7/dist-packages (from pandas->PyntCloud) (2.8.2)\n",
            "Requirement already satisfied: six>=1.5 in /usr/local/lib/python3.7/dist-packages (from python-dateutil>=2.7.3->pandas->PyntCloud) (1.15.0)\n",
            "Installing collected packages: PyntCloud, pptk\n",
            "Successfully installed PyntCloud-0.1.5 pptk-0.1.0\n",
            "Collecting voxelfuse\n",
            "  Downloading voxelfuse-1.2.7-py3-none-any.whl (63.0 MB)\n",
            "\u001b[K     |████████████████████████████████| 63.0 MB 1.2 MB/s \n",
            "\u001b[?25hCollecting pyqtgraph>=0.12.1\n",
            "  Downloading pyqtgraph-0.12.3-py3-none-any.whl (992 kB)\n",
            "\u001b[K     |████████████████████████████████| 992 kB 29.9 MB/s \n",
            "\u001b[?25hRequirement already satisfied: pyopengl>=3.1.5 in /usr/local/lib/python3.7/dist-packages (from voxelfuse) (3.1.5)\n",
            "Requirement already satisfied: tqdm>=4.60.0 in /usr/local/lib/python3.7/dist-packages (from voxelfuse) (4.62.3)\n",
            "Collecting k3d>=2.9.4\n",
            "  Downloading k3d-2.11.0-py2.py3-none-any.whl (15.1 MB)\n",
            "\u001b[K     |████████████████████████████████| 15.1 MB 34.8 MB/s \n",
            "\u001b[?25hCollecting py-vox-io>=0.1\n",
            "  Downloading py-vox-io-0.1.tar.gz (4.8 kB)\n",
            "Collecting meshio>=4.4.3\n",
            "  Downloading meshio-5.0.5-py3-none-any.whl (163 kB)\n",
            "\u001b[K     |████████████████████████████████| 163 kB 70.0 MB/s \n",
            "\u001b[?25hCollecting quad-mesh-simplify>=1.1.4\n",
            "  Downloading quad_mesh_simplify-1.1.4-cp37-cp37m-manylinux2010_x86_64.whl (127 kB)\n",
            "\u001b[K     |████████████████████████████████| 127 kB 75.9 MB/s \n",
            "\u001b[?25hCollecting pyqt5>=5.15.4\n",
            "  Downloading PyQt5-5.15.6-cp36-abi3-manylinux1_x86_64.whl (8.3 MB)\n",
            "\u001b[K     |████████████████████████████████| 8.3 MB 49.9 MB/s \n",
            "\u001b[?25hCollecting numpy>=1.20.3\n",
            "  Downloading numpy-1.21.4-cp37-cp37m-manylinux_2_12_x86_64.manylinux2010_x86_64.whl (15.7 MB)\n",
            "\u001b[K     |████████████████████████████████| 15.7 MB 30.1 MB/s \n",
            "\u001b[?25hCollecting numba>=0.53.1\n",
            "  Downloading numba-0.54.1-cp37-cp37m-manylinux2014_x86_64.manylinux_2_17_x86_64.whl (3.3 MB)\n",
            "\u001b[K     |████████████████████████████████| 3.3 MB 60.8 MB/s \n",
            "\u001b[?25hCollecting PyMCubes>=0.1.2\n",
            "  Downloading PyMCubes-0.1.2-cp37-cp37m-manylinux2010_x86_64.whl (265 kB)\n",
            "\u001b[K     |████████████████████████████████| 265 kB 70.9 MB/s \n",
            "\u001b[?25hCollecting scipy>=1.6.3\n",
            "  Downloading scipy-1.7.3-cp37-cp37m-manylinux_2_12_x86_64.manylinux2010_x86_64.whl (38.1 MB)\n",
            "\u001b[K     |████████████████████████████████| 38.1 MB 324 kB/s \n",
            "\u001b[?25hRequirement already satisfied: ipywidgets in /usr/local/lib/python3.7/dist-packages (from k3d>=2.9.4->voxelfuse) (7.6.5)\n",
            "Collecting jupyterlab~=3.0\n",
            "  Downloading jupyterlab-3.2.4-py3-none-any.whl (8.6 MB)\n",
            "\u001b[K     |████████████████████████████████| 8.6 MB 59.6 MB/s \n",
            "\u001b[?25hCollecting traittypes\n",
            "  Downloading traittypes-0.2.1-py2.py3-none-any.whl (8.6 kB)\n",
            "Requirement already satisfied: traitlets in /usr/local/lib/python3.7/dist-packages (from k3d>=2.9.4->voxelfuse) (5.1.1)\n",
            "Requirement already satisfied: packaging in /usr/local/lib/python3.7/dist-packages (from jupyterlab~=3.0->k3d>=2.9.4->voxelfuse) (21.3)\n",
            "Collecting nbclassic~=0.2\n",
            "  Downloading nbclassic-0.3.4-py3-none-any.whl (25 kB)\n",
            "Collecting jupyterlab-server~=2.3\n",
            "  Downloading jupyterlab_server-2.8.2-py3-none-any.whl (58 kB)\n",
            "\u001b[K     |████████████████████████████████| 58 kB 7.4 MB/s \n",
            "\u001b[?25hCollecting tornado>=6.1.0\n",
            "  Downloading tornado-6.1-cp37-cp37m-manylinux2010_x86_64.whl (428 kB)\n",
            "\u001b[K     |████████████████████████████████| 428 kB 71.7 MB/s \n",
            "\u001b[?25hRequirement already satisfied: jinja2>=2.1 in /usr/local/lib/python3.7/dist-packages (from jupyterlab~=3.0->k3d>=2.9.4->voxelfuse) (2.11.3)\n",
            "Collecting jupyter-server~=1.4\n",
            "  Downloading jupyter_server-1.12.1-py3-none-any.whl (395 kB)\n",
            "\u001b[K     |████████████████████████████████| 395 kB 80.7 MB/s \n",
            "\u001b[?25hRequirement already satisfied: ipython in /usr/local/lib/python3.7/dist-packages (from jupyterlab~=3.0->k3d>=2.9.4->voxelfuse) (5.5.0)\n",
            "Requirement already satisfied: jupyter-core in /usr/local/lib/python3.7/dist-packages (from jupyterlab~=3.0->k3d>=2.9.4->voxelfuse) (4.9.1)\n",
            "Requirement already satisfied: MarkupSafe>=0.23 in /usr/local/lib/python3.7/dist-packages (from jinja2>=2.1->jupyterlab~=3.0->k3d>=2.9.4->voxelfuse) (2.0.1)\n",
            "Requirement already satisfied: argon2-cffi in /usr/local/lib/python3.7/dist-packages (from jupyter-server~=1.4->jupyterlab~=3.0->k3d>=2.9.4->voxelfuse) (21.1.0)\n",
            "Requirement already satisfied: pyzmq>=17 in /usr/local/lib/python3.7/dist-packages (from jupyter-server~=1.4->jupyterlab~=3.0->k3d>=2.9.4->voxelfuse) (22.3.0)\n",
            "Requirement already satisfied: Send2Trash in /usr/local/lib/python3.7/dist-packages (from jupyter-server~=1.4->jupyterlab~=3.0->k3d>=2.9.4->voxelfuse) (1.8.0)\n",
            "Requirement already satisfied: prometheus-client in /usr/local/lib/python3.7/dist-packages (from jupyter-server~=1.4->jupyterlab~=3.0->k3d>=2.9.4->voxelfuse) (0.12.0)\n",
            "Collecting jupyter-client>=6.1.1\n",
            "  Downloading jupyter_client-7.1.0-py3-none-any.whl (129 kB)\n",
            "\u001b[K     |████████████████████████████████| 129 kB 82.9 MB/s \n",
            "\u001b[?25hCollecting anyio<4,>=3.1.0\n",
            "  Downloading anyio-3.4.0-py3-none-any.whl (78 kB)\n",
            "\u001b[K     |████████████████████████████████| 78 kB 7.9 MB/s \n",
            "\u001b[?25hCollecting websocket-client\n",
            "  Downloading websocket_client-1.2.1-py2.py3-none-any.whl (52 kB)\n",
            "\u001b[K     |████████████████████████████████| 52 kB 2.0 MB/s \n",
            "\u001b[?25hRequirement already satisfied: nbconvert in /usr/local/lib/python3.7/dist-packages (from jupyter-server~=1.4->jupyterlab~=3.0->k3d>=2.9.4->voxelfuse) (5.6.1)\n",
            "Requirement already satisfied: nbformat in /usr/local/lib/python3.7/dist-packages (from jupyter-server~=1.4->jupyterlab~=3.0->k3d>=2.9.4->voxelfuse) (5.1.3)\n",
            "Requirement already satisfied: terminado>=0.8.3 in /usr/local/lib/python3.7/dist-packages (from jupyter-server~=1.4->jupyterlab~=3.0->k3d>=2.9.4->voxelfuse) (0.12.1)\n",
            "Requirement already satisfied: ipython-genutils in /usr/local/lib/python3.7/dist-packages (from jupyter-server~=1.4->jupyterlab~=3.0->k3d>=2.9.4->voxelfuse) (0.2.0)\n",
            "Collecting sniffio>=1.1\n",
            "  Downloading sniffio-1.2.0-py3-none-any.whl (10 kB)\n",
            "Requirement already satisfied: typing-extensions in /usr/local/lib/python3.7/dist-packages (from anyio<4,>=3.1.0->jupyter-server~=1.4->jupyterlab~=3.0->k3d>=2.9.4->voxelfuse) (3.10.0.2)\n",
            "Requirement already satisfied: idna>=2.8 in /usr/local/lib/python3.7/dist-packages (from anyio<4,>=3.1.0->jupyter-server~=1.4->jupyterlab~=3.0->k3d>=2.9.4->voxelfuse) (2.10)\n",
            "Requirement already satisfied: python-dateutil>=2.1 in /usr/local/lib/python3.7/dist-packages (from jupyter-client>=6.1.1->jupyter-server~=1.4->jupyterlab~=3.0->k3d>=2.9.4->voxelfuse) (2.8.2)\n",
            "Requirement already satisfied: nest-asyncio>=1.5 in /usr/local/lib/python3.7/dist-packages (from jupyter-client>=6.1.1->jupyter-server~=1.4->jupyterlab~=3.0->k3d>=2.9.4->voxelfuse) (1.5.1)\n",
            "Requirement already satisfied: entrypoints in /usr/local/lib/python3.7/dist-packages (from jupyter-client>=6.1.1->jupyter-server~=1.4->jupyterlab~=3.0->k3d>=2.9.4->voxelfuse) (0.3)\n",
            "Requirement already satisfied: babel in /usr/local/lib/python3.7/dist-packages (from jupyterlab-server~=2.3->jupyterlab~=3.0->k3d>=2.9.4->voxelfuse) (2.9.1)\n",
            "Requirement already satisfied: requests in /usr/local/lib/python3.7/dist-packages (from jupyterlab-server~=2.3->jupyterlab~=3.0->k3d>=2.9.4->voxelfuse) (2.23.0)\n",
            "Collecting json5\n",
            "  Downloading json5-0.9.6-py2.py3-none-any.whl (18 kB)\n",
            "Collecting jsonschema>=3.0.1\n",
            "  Downloading jsonschema-4.2.1-py3-none-any.whl (69 kB)\n",
            "\u001b[K     |████████████████████████████████| 69 kB 7.8 MB/s \n",
            "\u001b[?25hRequirement already satisfied: importlib-metadata in /usr/local/lib/python3.7/dist-packages (from jsonschema>=3.0.1->jupyterlab-server~=2.3->jupyterlab~=3.0->k3d>=2.9.4->voxelfuse) (4.8.2)\n",
            "Requirement already satisfied: importlib-resources>=1.4.0 in /usr/local/lib/python3.7/dist-packages (from jsonschema>=3.0.1->jupyterlab-server~=2.3->jupyterlab~=3.0->k3d>=2.9.4->voxelfuse) (5.4.0)\n",
            "Requirement already satisfied: attrs>=17.4.0 in /usr/local/lib/python3.7/dist-packages (from jsonschema>=3.0.1->jupyterlab-server~=2.3->jupyterlab~=3.0->k3d>=2.9.4->voxelfuse) (21.2.0)\n",
            "Requirement already satisfied: pyrsistent!=0.17.0,!=0.17.1,!=0.17.2,>=0.14.0 in /usr/local/lib/python3.7/dist-packages (from jsonschema>=3.0.1->jupyterlab-server~=2.3->jupyterlab~=3.0->k3d>=2.9.4->voxelfuse) (0.18.0)\n",
            "Requirement already satisfied: zipp>=3.1.0 in /usr/local/lib/python3.7/dist-packages (from importlib-resources>=1.4.0->jsonschema>=3.0.1->jupyterlab-server~=2.3->jupyterlab~=3.0->k3d>=2.9.4->voxelfuse) (3.6.0)\n",
            "Requirement already satisfied: notebook<7 in /usr/local/lib/python3.7/dist-packages (from nbclassic~=0.2->jupyterlab~=3.0->k3d>=2.9.4->voxelfuse) (5.3.1)\n",
            "Requirement already satisfied: ipykernel in /usr/local/lib/python3.7/dist-packages (from notebook<7->nbclassic~=0.2->jupyterlab~=3.0->k3d>=2.9.4->voxelfuse) (4.10.1)\n",
            "Collecting llvmlite<0.38,>=0.37.0rc1\n",
            "  Downloading llvmlite-0.37.0-cp37-cp37m-manylinux2014_x86_64.whl (26.3 MB)\n",
            "\u001b[K     |████████████████████████████████| 26.3 MB 1.3 MB/s \n",
            "\u001b[?25hCollecting numpy>=1.20.3\n",
            "  Downloading numpy-1.20.3-cp37-cp37m-manylinux_2_12_x86_64.manylinux2010_x86_64.whl (15.3 MB)\n",
            "\u001b[K     |████████████████████████████████| 15.3 MB 60.6 MB/s \n",
            "\u001b[?25hRequirement already satisfied: setuptools in /usr/local/lib/python3.7/dist-packages (from numba>=0.53.1->voxelfuse) (57.4.0)\n",
            "Collecting PyQt5-Qt5>=5.15.2\n",
            "  Downloading PyQt5_Qt5-5.15.2-py3-none-manylinux2014_x86_64.whl (59.9 MB)\n",
            "\u001b[K     |████████████████████████████████| 59.9 MB 1.3 MB/s \n",
            "\u001b[?25hCollecting PyQt5-sip<13,>=12.8\n",
            "  Downloading PyQt5_sip-12.9.0-cp37-cp37m-manylinux1_x86_64.whl (317 kB)\n",
            "\u001b[K     |████████████████████████████████| 317 kB 72.3 MB/s \n",
            "\u001b[?25hRequirement already satisfied: six>=1.5 in /usr/local/lib/python3.7/dist-packages (from python-dateutil>=2.1->jupyter-client>=6.1.1->jupyter-server~=1.4->jupyterlab~=3.0->k3d>=2.9.4->voxelfuse) (1.15.0)\n",
            "Requirement already satisfied: cython in /usr/local/lib/python3.7/dist-packages (from quad-mesh-simplify>=1.1.4->voxelfuse) (0.29.24)\n",
            "Requirement already satisfied: ptyprocess in /usr/local/lib/python3.7/dist-packages (from terminado>=0.8.3->jupyter-server~=1.4->jupyterlab~=3.0->k3d>=2.9.4->voxelfuse) (0.7.0)\n",
            "Requirement already satisfied: cffi>=1.0.0 in /usr/local/lib/python3.7/dist-packages (from argon2-cffi->jupyter-server~=1.4->jupyterlab~=3.0->k3d>=2.9.4->voxelfuse) (1.15.0)\n",
            "Requirement already satisfied: pycparser in /usr/local/lib/python3.7/dist-packages (from cffi>=1.0.0->argon2-cffi->jupyter-server~=1.4->jupyterlab~=3.0->k3d>=2.9.4->voxelfuse) (2.21)\n",
            "Requirement already satisfied: pytz>=2015.7 in /usr/local/lib/python3.7/dist-packages (from babel->jupyterlab-server~=2.3->jupyterlab~=3.0->k3d>=2.9.4->voxelfuse) (2018.9)\n",
            "Requirement already satisfied: pexpect in /usr/local/lib/python3.7/dist-packages (from ipython->jupyterlab~=3.0->k3d>=2.9.4->voxelfuse) (4.8.0)\n",
            "Requirement already satisfied: decorator in /usr/local/lib/python3.7/dist-packages (from ipython->jupyterlab~=3.0->k3d>=2.9.4->voxelfuse) (4.4.2)\n",
            "Requirement already satisfied: simplegeneric>0.8 in /usr/local/lib/python3.7/dist-packages (from ipython->jupyterlab~=3.0->k3d>=2.9.4->voxelfuse) (0.8.1)\n",
            "Requirement already satisfied: pickleshare in /usr/local/lib/python3.7/dist-packages (from ipython->jupyterlab~=3.0->k3d>=2.9.4->voxelfuse) (0.7.5)\n",
            "Requirement already satisfied: pygments in /usr/local/lib/python3.7/dist-packages (from ipython->jupyterlab~=3.0->k3d>=2.9.4->voxelfuse) (2.6.1)\n",
            "Requirement already satisfied: prompt-toolkit<2.0.0,>=1.0.4 in /usr/local/lib/python3.7/dist-packages (from ipython->jupyterlab~=3.0->k3d>=2.9.4->voxelfuse) (1.0.18)\n",
            "Requirement already satisfied: wcwidth in /usr/local/lib/python3.7/dist-packages (from prompt-toolkit<2.0.0,>=1.0.4->ipython->jupyterlab~=3.0->k3d>=2.9.4->voxelfuse) (0.2.5)\n",
            "Requirement already satisfied: jupyterlab-widgets>=1.0.0 in /usr/local/lib/python3.7/dist-packages (from ipywidgets->k3d>=2.9.4->voxelfuse) (1.0.2)\n",
            "Requirement already satisfied: widgetsnbextension~=3.5.0 in /usr/local/lib/python3.7/dist-packages (from ipywidgets->k3d>=2.9.4->voxelfuse) (3.5.2)\n",
            "Requirement already satisfied: pandocfilters>=1.4.1 in /usr/local/lib/python3.7/dist-packages (from nbconvert->jupyter-server~=1.4->jupyterlab~=3.0->k3d>=2.9.4->voxelfuse) (1.5.0)\n",
            "Requirement already satisfied: mistune<2,>=0.8.1 in /usr/local/lib/python3.7/dist-packages (from nbconvert->jupyter-server~=1.4->jupyterlab~=3.0->k3d>=2.9.4->voxelfuse) (0.8.4)\n",
            "Requirement already satisfied: bleach in /usr/local/lib/python3.7/dist-packages (from nbconvert->jupyter-server~=1.4->jupyterlab~=3.0->k3d>=2.9.4->voxelfuse) (4.1.0)\n",
            "Requirement already satisfied: defusedxml in /usr/local/lib/python3.7/dist-packages (from nbconvert->jupyter-server~=1.4->jupyterlab~=3.0->k3d>=2.9.4->voxelfuse) (0.7.1)\n",
            "Requirement already satisfied: testpath in /usr/local/lib/python3.7/dist-packages (from nbconvert->jupyter-server~=1.4->jupyterlab~=3.0->k3d>=2.9.4->voxelfuse) (0.5.0)\n",
            "Requirement already satisfied: webencodings in /usr/local/lib/python3.7/dist-packages (from bleach->nbconvert->jupyter-server~=1.4->jupyterlab~=3.0->k3d>=2.9.4->voxelfuse) (0.5.1)\n",
            "Requirement already satisfied: pyparsing!=3.0.5,>=2.0.2 in /usr/local/lib/python3.7/dist-packages (from packaging->jupyterlab~=3.0->k3d>=2.9.4->voxelfuse) (3.0.6)\n",
            "Requirement already satisfied: chardet<4,>=3.0.2 in /usr/local/lib/python3.7/dist-packages (from requests->jupyterlab-server~=2.3->jupyterlab~=3.0->k3d>=2.9.4->voxelfuse) (3.0.4)\n",
            "Requirement already satisfied: certifi>=2017.4.17 in /usr/local/lib/python3.7/dist-packages (from requests->jupyterlab-server~=2.3->jupyterlab~=3.0->k3d>=2.9.4->voxelfuse) (2021.10.8)\n",
            "Requirement already satisfied: urllib3!=1.25.0,!=1.25.1,<1.26,>=1.21.1 in /usr/local/lib/python3.7/dist-packages (from requests->jupyterlab-server~=2.3->jupyterlab~=3.0->k3d>=2.9.4->voxelfuse) (1.24.3)\n",
            "Building wheels for collected packages: py-vox-io\n",
            "  Building wheel for py-vox-io (setup.py) ... \u001b[?25l\u001b[?25hdone\n",
            "  Created wheel for py-vox-io: filename=py_vox_io-0.1-py3-none-any.whl size=5718 sha256=569b043ccf8622ca108afc1cf0cada996c20260b5a1b722e12ee5f09ea145940\n",
            "  Stored in directory: /root/.cache/pip/wheels/65/81/5c/d22c041200951b072c78e0fe0257b8be428739cd0fdab38791\n",
            "Successfully built py-vox-io\n",
            "Installing collected packages: tornado, jsonschema, sniffio, jupyter-client, websocket-client, anyio, jupyter-server, json5, nbclassic, jupyterlab-server, traittypes, PyQt5-sip, PyQt5-Qt5, numpy, llvmlite, jupyterlab, scipy, quad-mesh-simplify, pyqtgraph, pyqt5, PyMCubes, py-vox-io, numba, meshio, k3d, voxelfuse\n",
            "  Attempting uninstall: tornado\n",
            "    Found existing installation: tornado 5.1.1\n",
            "    Uninstalling tornado-5.1.1:\n",
            "      Successfully uninstalled tornado-5.1.1\n",
            "  Attempting uninstall: jsonschema\n",
            "    Found existing installation: jsonschema 2.6.0\n",
            "    Uninstalling jsonschema-2.6.0:\n",
            "      Successfully uninstalled jsonschema-2.6.0\n",
            "  Attempting uninstall: jupyter-client\n",
            "    Found existing installation: jupyter-client 5.3.5\n",
            "    Uninstalling jupyter-client-5.3.5:\n",
            "      Successfully uninstalled jupyter-client-5.3.5\n",
            "  Attempting uninstall: numpy\n",
            "    Found existing installation: numpy 1.19.5\n",
            "    Uninstalling numpy-1.19.5:\n",
            "      Successfully uninstalled numpy-1.19.5\n",
            "  Attempting uninstall: llvmlite\n",
            "    Found existing installation: llvmlite 0.34.0\n",
            "    Uninstalling llvmlite-0.34.0:\n",
            "      Successfully uninstalled llvmlite-0.34.0\n",
            "  Attempting uninstall: scipy\n",
            "    Found existing installation: scipy 1.4.1\n",
            "    Uninstalling scipy-1.4.1:\n",
            "      Successfully uninstalled scipy-1.4.1\n",
            "  Attempting uninstall: numba\n",
            "    Found existing installation: numba 0.51.2\n",
            "    Uninstalling numba-0.51.2:\n",
            "      Successfully uninstalled numba-0.51.2\n",
            "\u001b[31mERROR: pip's dependency resolver does not currently take into account all the packages that are installed. This behaviour is the source of the following dependency conflicts.\n",
            "yellowbrick 1.3.post1 requires numpy<1.20,>=1.16.0, but you have numpy 1.20.3 which is incompatible.\n",
            "google-colab 1.0.0 requires tornado~=5.1.0; python_version >= \"3.0\", but you have tornado 6.1 which is incompatible.\n",
            "datascience 0.10.6 requires folium==0.2.1, but you have folium 0.8.3 which is incompatible.\n",
            "albumentations 0.1.12 requires imgaug<0.2.7,>=0.2.5, but you have imgaug 0.2.9 which is incompatible.\u001b[0m\n",
            "Successfully installed PyMCubes-0.1.2 PyQt5-Qt5-5.15.2 PyQt5-sip-12.9.0 anyio-3.4.0 json5-0.9.6 jsonschema-4.2.1 jupyter-client-7.1.0 jupyter-server-1.12.1 jupyterlab-3.2.4 jupyterlab-server-2.8.2 k3d-2.11.0 llvmlite-0.37.0 meshio-5.0.5 nbclassic-0.3.4 numba-0.54.1 numpy-1.20.3 py-vox-io-0.1 pyqt5-5.15.6 pyqtgraph-0.12.3 quad-mesh-simplify-1.1.4 scipy-1.7.3 sniffio-1.2.0 tornado-6.1 traittypes-0.2.1 voxelfuse-1.2.7 websocket-client-1.2.1\n"
          ]
        },
        {
          "output_type": "display_data",
          "data": {
            "application/vnd.colab-display-data+json": {
              "pip_warning": {
                "packages": [
                  "jupyter_client",
                  "numpy",
                  "tornado"
                ]
              }
            }
          },
          "metadata": {}
        }
      ]
    },
    {
      "cell_type": "code",
      "metadata": {
        "id": "WHXPbASaAFcz"
      },
      "source": [
        "%matplotlib notebook \n",
        "%matplotlib inline \n",
        "\n",
        "\n",
        "import matplotlib.pyplot as plt\n",
        "from mpl_toolkits.mplot3d import Axes3D\n",
        "\n",
        "import pptk \n",
        "import numpy as np\n",
        "import pandas as pd\n",
        "from pyntcloud import PyntCloud\n",
        "\n"
      ],
      "execution_count": null,
      "outputs": []
    },
    {
      "cell_type": "code",
      "metadata": {
        "colab": {
          "base_uri": "https://localhost:8080/"
        },
        "id": "zv1c9Y7jAKCv",
        "outputId": "0d53e006-2db0-41f3-d6af-fd7f9130a9aa"
      },
      "source": [
        "import numpy as np\n",
        "\n",
        "#### CHANGE THE PATH OF THE FILE HERE\n",
        "point_cloud = np.loadtxt(\"/content/drive/MyDrive/data/Artathon_data/pieta_xyz.asc\")\n",
        "####\n",
        "\n",
        "point_cloud.shape\n",
        "point_cloud[1]"
      ],
      "execution_count": null,
      "outputs": [
        {
          "output_type": "execute_result",
          "data": {
            "text/plain": [
              "array([316.,  21., 328.])"
            ]
          },
          "metadata": {},
          "execution_count": 2
        }
      ]
    },
    {
      "cell_type": "code",
      "metadata": {
        "colab": {
          "base_uri": "https://localhost:8080/"
        },
        "id": "xuRFbpG_AcbH",
        "outputId": "f0c03a82-8e40-4030-b6d0-25d2f93ef0be"
      },
      "source": [
        "from pyntcloud import PyntCloud\n",
        "new_df = pd.DataFrame(data=point_cloud, columns=['x','y','z'])\n",
        "cloud = PyntCloud(new_df)\n",
        "cloud"
      ],
      "execution_count": null,
      "outputs": [
        {
          "output_type": "execute_result",
          "data": {
            "text/plain": [
              "PyntCloud\n",
              "696230 points with 0 scalar fields\n",
              "0 faces in mesh\n",
              "0 kdtrees\n",
              "0 voxelgrids\n",
              "Centroid: 255.39543398015024, 148.3887393533746, 149.17173635149305\n",
              "Other attributes:"
            ]
          },
          "metadata": {},
          "execution_count": 3
        }
      ]
    },
    {
      "cell_type": "code",
      "metadata": {
        "id": "jPfgR2IdArD8"
      },
      "source": [
        "voxelgrid_id = cloud.add_structure(\"voxelgrid\", n_x=64, n_y=64, n_z=64)\n",
        "voxelgrid = cloud.structures[voxelgrid_id]\n",
        "#voxelgrid.plot(d=3, mode=\"density\", cmap=\"hsv\")"
      ],
      "execution_count": null,
      "outputs": []
    },
    {
      "cell_type": "code",
      "metadata": {
        "colab": {
          "base_uri": "https://localhost:8080/"
        },
        "id": "Akc01SdJAv6x",
        "outputId": "552b9e00-19aa-468d-f139-e937ed853cb5"
      },
      "source": [
        "Binary_voxel_array = voxelgrid.get_feature_vector(mode=\"binary\")\n",
        "Binary_voxel_array.shape"
      ],
      "execution_count": null,
      "outputs": [
        {
          "output_type": "execute_result",
          "data": {
            "text/plain": [
              "(64, 64, 64)"
            ]
          },
          "metadata": {},
          "execution_count": 5
        }
      ]
    },
    {
      "cell_type": "code",
      "metadata": {
        "colab": {
          "base_uri": "https://localhost:8080/",
          "height": 248
        },
        "id": "nvLr-wfmA0Vb",
        "outputId": "5946821c-a9ba-4ae8-8a87-e8ff5b37f11f"
      },
      "source": [
        "fig = plt.figure()\n",
        "ax = fig.gca(projection='3d')\n",
        "ax.view_init(45, 45)\n",
        "#ax.axis('off')\n",
        "ax.voxels(Binary_voxel_array)\n",
        "plt.show()"
      ],
      "execution_count": null,
      "outputs": [
        {
          "output_type": "display_data",
          "data": {
            "image/png": "[encoded data removed]",
            "text/plain": [
              "<Figure size 432x288 with 1 Axes>"
            ]
          },
          "metadata": {
            "needs_background": "light"
          }
        }
      ]
    },
    {
      "cell_type": "code",
      "metadata": {
        "id": "wMUGhyrTA9WN"
      },
      "source": [
        "# save to npy file\n",
        "np.savez('/content/drive/MyDrive/data/Artathon_data/Binary_voxel_array.npz', Binary_voxel_array)"
      ],
      "execution_count": null,
      "outputs": []
    },
    {
      "cell_type": "markdown",
      "metadata": {
        "id": "EcU7sf_UBAQ2"
      },
      "source": [
        "### Train the autoencoder "
      ]
    },
    {
      "cell_type": "code",
      "metadata": {
        "id": "aLeAn85JlFWi"
      },
      "source": [
        "import numpy as np\n",
        "\n",
        "\n",
        "import torch.nn.functional as F\n",
        "import torch.optim as optim\n",
        "import matplotlib.pyplot as plt\n",
        "from torch.utils.data.sampler import SubsetRandomSampler\n",
        "\n",
        "from torch.utils.data import DataLoader\n",
        "from torchvision import datasets, transforms\n",
        "import torch\n",
        "import torchvision\n",
        "from torch import nn\n",
        "from torch.autograd import Variable\n",
        "from torch.utils.data import DataLoader\n",
        "from torchvision import transforms\n",
        "from torchvision.utils import save_image\n",
        "import os\n",
        "import re\n",
        "\n",
        "import torch.nn.utils.prune as prune\n",
        "\n"
      ],
      "execution_count": null,
      "outputs": []
    },
    {
      "cell_type": "code",
      "metadata": {
        "id": "_RYizLyblUG5",
        "colab": {
          "base_uri": "https://localhost:8080/"
        },
        "outputId": "2592e6ff-47e7-48ca-afe0-233b6841a025"
      },
      "source": [
        "device = torch.device('cuda' if torch.cuda.is_available() else 'cpu')\n",
        "device"
      ],
      "execution_count": null,
      "outputs": [
        {
          "output_type": "execute_result",
          "data": {
            "text/plain": [
              "device(type='cuda')"
            ]
          },
          "metadata": {},
          "execution_count": 9
        }
      ]
    },
    {
      "cell_type": "code",
      "metadata": {
        "id": "s6qr-hPYlY3e"
      },
      "source": [
        "from torch.utils.data import Dataset\n",
        "\n",
        "class MyDataset(Dataset):\n",
        "    def __init__(self, voxel_path, transform=None):\n",
        "        self.voxel_path = voxel_path\n",
        "        self.transform = None\n",
        "\n",
        "    def __len__(self):\n",
        "        return 1\n",
        "\n",
        "    def __getitem__(self, x):\n",
        "        # open image here as PIL / numpy\n",
        "        #image = plt.imread(self.image_path)\n",
        "        voxel_data = np.load(self.voxel_path)['arr_0']\n",
        "        voxel_data = voxel_data[None, :, :, :]\n",
        "        voxel_data = voxel_data.astype(np.float32)\n",
        "\n",
        "        #voxel_data = TF.to_tensor(voxel_data)\n",
        "        #s = image.size\n",
        "\n",
        "        if self.transform is not None:\n",
        "            image = self.transform(image)\n",
        "\n",
        "        return voxel_data"
      ],
      "execution_count": null,
      "outputs": []
    },
    {
      "cell_type": "code",
      "metadata": {
        "id": "fqnI9x9XlcRB"
      },
      "source": [
        "#### CHANGE THE PATH OF THE .npz FILE HERE\n",
        "dataset = MyDataset('/content/drive/MyDrive/data/Artathon_data/Binary_voxel_array.npz')\n",
        "#### \n",
        "\n",
        "dataloader = torch.utils.data.DataLoader(dataset, batch_size=1)"
      ],
      "execution_count": null,
      "outputs": []
    },
    {
      "cell_type": "code",
      "metadata": {
        "id": "zi_UZmoKlgiV"
      },
      "source": [
        "class Trim(nn.Module):\n",
        "    def __init__(self, *args):\n",
        "        super().__init__()\n",
        "\n",
        "    def forward(self, x):\n",
        "        return x[:, :, :64, :64, :64]\n",
        "\n",
        "\n",
        "class autoencoder(nn.Module):\n",
        "    def __init__(self):\n",
        "        super(autoencoder, self).__init__()\n",
        "        self.encoder = nn.Sequential(\n",
        "            nn.Conv3d(1, 128, 3, stride=2, padding = 1),  # b, 16, 398, 398,\n",
        "            nn.LeakyReLU(0.01),\n",
        "            #nn.MaxPool3d(2, stride=2),  # b,  16, 199, 199\n",
        "\n",
        "            #nn.Conv3d(64, 128, 5, stride=2, padding = 1),  # b, 8, 99, 99\n",
        "            #nn.ReLU(True),\n",
        "\n",
        "            #nn.MaxPool3d(2, stride=2)  # b, 8, 49, 49\n",
        "        )\n",
        "        self.decoder = nn.Sequential(\n",
        "            \n",
        "            #nn.ConvTranspose3d(128, 16, 5, stride=2),\n",
        "            #nn.ReLU(True),\n",
        "            \n",
        "            #nn.Upsample(size=(18, 18, 18), mode='trilinear', align_corners=False),\n",
        "            nn.ConvTranspose3d(128, 1, 3, stride=2),\n",
        "            nn.Sigmoid(),\n",
        "            #nn.MaxUnpool3d(2, stride=2),\n",
        "\n",
        "            #nn.Upsample(size=(64, 64, 64), mode='trilinear', align_corners=False),\n",
        "\n",
        "            #nn.ConvTranspose2d(8, 16, 3, stride=2, padding = 0),  # b, 16, 5, 5\n",
        "            #nn.ReLU(True),\n",
        "            #nn.ConvTranspose2d(16, 8, 3, stride=2, padding = 0),  # b, 8, 15, 15\n",
        "            #nn.ReLU(True),\n",
        "            #nn.ConvTranspose2d(8, 1, 5, stride=2, padding = 0),  # b, 1, 28, 28\n",
        "            Trim()\n",
        "            #nn.Sigmoid()\n",
        "        )\n",
        "\n",
        "    def forward(self, x):\n",
        "        x_encoded = self.encoder(x)\n",
        "        #print(x_encoded.shape)\n",
        "        x = self.decoder(x_encoded)\n",
        "        #print(x.shape)\n",
        "\n",
        "        return x\n"
      ],
      "execution_count": null,
      "outputs": []
    },
    {
      "cell_type": "code",
      "metadata": {
        "id": "vR-GZwNhlhRu"
      },
      "source": [
        "model = autoencoder()\n",
        "criterion = nn.MSELoss()"
      ],
      "execution_count": null,
      "outputs": []
    },
    {
      "cell_type": "code",
      "metadata": {
        "id": "Ak0fxL6IllFr",
        "colab": {
          "base_uri": "https://localhost:8080/"
        },
        "outputId": "6e00fda9-699f-4680-c53d-82acfa2812f6"
      },
      "source": [
        "num_epochs = 500\n",
        "batch_size = 1\n",
        "learning_rate = 0.001\n",
        "\n",
        "\n",
        "optimizer = torch.optim.Adam(model.parameters(), learning_rate)\n",
        "total_loss = 0\n",
        "for epoch in range(num_epochs):\n",
        "    for data in dataloader:\n",
        "        img = Variable(data)\n",
        "        # ===================forward=====================\n",
        "        output = model(img)\n",
        "        #output = output > 0.5\n",
        "        #output = np.array(output)\n",
        "        #output = output.to(torch.float32)\n",
        "        loss = criterion(output, img)\n",
        "        # ===================backward====================\n",
        "        optimizer.zero_grad()\n",
        "        loss.backward()\n",
        "        optimizer.step()\n",
        "    # ===================log========================\n",
        "    total_loss += loss.data\n",
        "    print('epoch [{}/{}]'\n",
        "          .format(epoch+1, num_epochs))\n",
        "    #if epoch % 10 == 0:\n",
        "    #    pic = output.cpu()#.detach()#.numpy()\n",
        "    #   save_image(pic, 'image_{}.png'.format(epoch))\n",
        "\n",
        "#torch.save(model.state_dict(), './conv_autoencoder.pth')"
      ],
      "execution_count": null,
      "outputs": [
        {
          "output_type": "stream",
          "name": "stdout",
          "text": [
            "epoch [1/100], loss:0.2135\n",
            "epoch [2/100], loss:0.4255\n",
            "epoch [3/100], loss:0.6360\n",
            "epoch [4/100], loss:0.8451\n",
            "epoch [5/100], loss:1.0528\n",
            "epoch [6/100], loss:1.2592\n",
            "epoch [7/100], loss:1.4641\n",
            "epoch [8/100], loss:1.6677\n",
            "epoch [9/100], loss:1.8700\n",
            "epoch [10/100], loss:2.0709\n",
            "epoch [11/100], loss:2.2705\n",
            "epoch [12/100], loss:2.4689\n",
            "epoch [13/100], loss:2.6660\n",
            "epoch [14/100], loss:2.8618\n",
            "epoch [15/100], loss:3.0563\n",
            "epoch [16/100], loss:3.2496\n",
            "epoch [17/100], loss:3.4416\n",
            "epoch [18/100], loss:3.6323\n",
            "epoch [19/100], loss:3.8219\n",
            "epoch [20/100], loss:4.0101\n",
            "epoch [21/100], loss:4.1972\n",
            "epoch [22/100], loss:4.3829\n",
            "epoch [23/100], loss:4.5675\n",
            "epoch [24/100], loss:4.7507\n",
            "epoch [25/100], loss:4.9328\n",
            "epoch [26/100], loss:5.1135\n",
            "epoch [27/100], loss:5.2930\n",
            "epoch [28/100], loss:5.4711\n",
            "epoch [29/100], loss:5.6480\n",
            "epoch [30/100], loss:5.8236\n",
            "epoch [31/100], loss:5.9980\n",
            "epoch [32/100], loss:6.1709\n",
            "epoch [33/100], loss:6.3426\n",
            "epoch [34/100], loss:6.5130\n",
            "epoch [35/100], loss:6.6820\n",
            "epoch [36/100], loss:6.8497\n",
            "epoch [37/100], loss:7.0161\n",
            "epoch [38/100], loss:7.1811\n",
            "epoch [39/100], loss:7.3447\n",
            "epoch [40/100], loss:7.5070\n",
            "epoch [41/100], loss:7.6679\n",
            "epoch [42/100], loss:7.8275\n",
            "epoch [43/100], loss:7.9856\n",
            "epoch [44/100], loss:8.1424\n",
            "epoch [45/100], loss:8.2978\n",
            "epoch [46/100], loss:8.4517\n",
            "epoch [47/100], loss:8.6043\n",
            "epoch [48/100], loss:8.7555\n",
            "epoch [49/100], loss:8.9052\n",
            "epoch [50/100], loss:9.0535\n",
            "epoch [51/100], loss:9.2004\n",
            "epoch [52/100], loss:9.3458\n",
            "epoch [53/100], loss:9.4898\n",
            "epoch [54/100], loss:9.6323\n",
            "epoch [55/100], loss:9.7734\n",
            "epoch [56/100], loss:9.9130\n",
            "epoch [57/100], loss:10.0512\n",
            "epoch [58/100], loss:10.1878\n",
            "epoch [59/100], loss:10.3230\n",
            "epoch [60/100], loss:10.4567\n",
            "epoch [61/100], loss:10.5890\n",
            "epoch [62/100], loss:10.7197\n",
            "epoch [63/100], loss:10.8490\n",
            "epoch [64/100], loss:10.9768\n",
            "epoch [65/100], loss:11.1031\n",
            "epoch [66/100], loss:11.2279\n",
            "epoch [67/100], loss:11.3512\n",
            "epoch [68/100], loss:11.4730\n",
            "epoch [69/100], loss:11.5934\n",
            "epoch [70/100], loss:11.7123\n",
            "epoch [71/100], loss:11.8297\n",
            "epoch [72/100], loss:11.9456\n",
            "epoch [73/100], loss:12.0599\n",
            "epoch [74/100], loss:12.1728\n",
            "epoch [75/100], loss:12.2842\n",
            "epoch [76/100], loss:12.3941\n",
            "epoch [77/100], loss:12.5024\n",
            "epoch [78/100], loss:12.6093\n",
            "epoch [79/100], loss:12.7146\n",
            "epoch [80/100], loss:12.8185\n",
            "epoch [81/100], loss:12.9209\n",
            "epoch [82/100], loss:13.0218\n",
            "epoch [83/100], loss:13.1213\n",
            "epoch [84/100], loss:13.2193\n",
            "epoch [85/100], loss:13.3159\n",
            "epoch [86/100], loss:13.4111\n",
            "epoch [87/100], loss:13.5049\n",
            "epoch [88/100], loss:13.5973\n",
            "epoch [89/100], loss:13.6883\n",
            "epoch [90/100], loss:13.7780\n",
            "epoch [91/100], loss:13.8664\n",
            "epoch [92/100], loss:13.9534\n",
            "epoch [93/100], loss:14.0391\n",
            "epoch [94/100], loss:14.1235\n",
            "epoch [95/100], loss:14.2066\n",
            "epoch [96/100], loss:14.2885\n",
            "epoch [97/100], loss:14.3692\n",
            "epoch [98/100], loss:14.4486\n",
            "epoch [99/100], loss:14.5268\n",
            "epoch [100/100], loss:14.6038\n"
          ]
        }
      ]
    },
    {
      "cell_type": "markdown",
      "metadata": {
        "id": "8vIoxPH-BV-7"
      },
      "source": [
        "### Pruning"
      ]
    },
    {
      "cell_type": "code",
      "metadata": {
        "id": "4rrJ5k_LlrYt"
      },
      "source": [
        "voxel_data = Binary_voxel_array[None, None, :, :, :]\n",
        "voxel_data = voxel_data.astype(np.float32)\n",
        "voxel_data = Variable(torch.from_numpy(voxel_data))"
      ],
      "execution_count": null,
      "outputs": []
    },
    {
      "cell_type": "code",
      "metadata": {
        "id": "5cC5rcUElxwN"
      },
      "source": [
        "new_autoencoder = model"
      ],
      "execution_count": null,
      "outputs": []
    },
    {
      "cell_type": "code",
      "metadata": {
        "id": "z9VeuMKyzKKL"
      },
      "source": [
        "# start pruning \n",
        "predicted = new_autoencoder(voxel_data)"
      ],
      "execution_count": null,
      "outputs": []
    },
    {
      "cell_type": "code",
      "metadata": {
        "id": "xAUPNOjal3N0"
      },
      "source": [
        "predicted = predicted.squeeze(dim = 0)\n",
        "predicted = predicted.squeeze(dim = 0)"
      ],
      "execution_count": null,
      "outputs": []
    },
    {
      "cell_type": "code",
      "metadata": {
        "id": "Xb1Bs2GmwX5d"
      },
      "source": [
        "predicted = predicted > 0.5"
      ],
      "execution_count": null,
      "outputs": []
    },
    {
      "cell_type": "code",
      "metadata": {
        "id": "_O9fzk7Zl5CO",
        "colab": {
          "base_uri": "https://localhost:8080/",
          "height": 248
        },
        "outputId": "e9b56075-0994-4bdb-fa99-735980a13d5e"
      },
      "source": [
        "fig = plt.figure()\n",
        "ax = fig.gca(projection='3d')\n",
        "ax.view_init(45, 45)\n",
        "#ax.axis('off')\n",
        "ax.voxels(predicted)\n",
        "plt.show()"
      ],
      "execution_count": null,
      "outputs": [
        {
          "output_type": "display_data",
          "data": {
            "image/png": "[encoded data removed]",
            "text/plain": [
              "<Figure size 432x288 with 1 Axes>"
            ]
          },
          "metadata": {
            "needs_background": "light"
          }
        }
      ]
    },
    {
      "cell_type": "code",
      "metadata": {
        "colab": {
          "base_uri": "https://localhost:8080/"
        },
        "id": "wwuhGmF-pD74",
        "outputId": "8c48cbdf-d45f-48be-e500-deb8a284933d"
      },
      "source": [
        "print(f'Non Zero Parameters: {sum([torch.sum(p != 0) for p in new_autoencoder.parameters()])}')"
      ],
      "execution_count": null,
      "outputs": [
        {
          "output_type": "stream",
          "name": "stdout",
          "text": [
            "Non Zero Parameters: 1588\n"
          ]
        }
      ]
    },
    {
      "cell_type": "code",
      "metadata": {
        "id": "ObNXZQ1Zr2cI"
      },
      "source": [
        "parameters_to_prune = [(new_autoencoder.encoder[0], 'weight'),\n",
        " (new_autoencoder.decoder[0], 'weight')]"
      ],
      "execution_count": null,
      "outputs": []
    },
    {
      "cell_type": "code",
      "metadata": {
        "colab": {
          "base_uri": "https://localhost:8080/"
        },
        "id": "bRhfMbU9sDi0",
        "outputId": "a7aa3d84-efcb-4835-dcda-10456f3d480e"
      },
      "source": [
        "prune.global_unstructured(parameters_to_prune, pruning_method=prune.L1Unstructured, amount=0.3)\n",
        "print('Pruning Completed')"
      ],
      "execution_count": null,
      "outputs": [
        {
          "output_type": "stream",
          "name": "stdout",
          "text": [
            "Pruning Completed\n"
          ]
        }
      ]
    },
    {
      "cell_type": "code",
      "metadata": {
        "id": "rtW819CxtRgt"
      },
      "source": [
        "for p in parameters_to_prune:\n",
        "    prune.remove(p[0], p[1])"
      ],
      "execution_count": null,
      "outputs": []
    },
    {
      "cell_type": "code",
      "metadata": {
        "colab": {
          "base_uri": "https://localhost:8080/"
        },
        "id": "pc2XP8ZLtNfh",
        "outputId": "d606a718-910e-43ae-f9f1-97f650904d6a"
      },
      "source": [
        "print(f'Non Zero Parameters: {sum([torch.sum(p != 0) for p in new_autoencoder.parameters()])}')"
      ],
      "execution_count": null,
      "outputs": [
        {
          "output_type": "stream",
          "name": "stdout",
          "text": [
            "Non Zero Parameters: 1243\n"
          ]
        }
      ]
    },
    {
      "cell_type": "markdown",
      "metadata": {
        "id": "cBGgLnQ2izwI"
      },
      "source": [
        "### Save the output"
      ]
    },
    {
      "cell_type": "code",
      "metadata": {
        "id": "-LrW7aw_h5TK"
      },
      "source": [
        "from voxelfuse.voxel_model import VoxelModel\n",
        "from voxelfuse.mesh import Mesh"
      ],
      "execution_count": null,
      "outputs": []
    },
    {
      "cell_type": "code",
      "metadata": {
        "id": "R9spGsbog-pY"
      },
      "source": [
        "def save_voxel(voxel_data, path):\n",
        "    model = VoxelModel(voxel_data)  \n",
        "    mesh = Mesh.fromVoxelModel(model)\n",
        "    mesh.export(path)"
      ],
      "execution_count": null,
      "outputs": []
    },
    {
      "cell_type": "code",
      "metadata": {
        "colab": {
          "base_uri": "https://localhost:8080/"
        },
        "id": "B4HHPReig_zH",
        "outputId": "17e631c9-92ff-42e9-f964-151ed1920801"
      },
      "source": [
        "save_voxel(predicted, '/content/drive/MyDrive/data/Artathon_data/pruned30.obj')"
      ],
      "execution_count": null,
      "outputs": [
        {
          "output_type": "stream",
          "name": "stderr",
          "text": [
            "Finding exterior voxels: 100%|██████████| 64/64 [00:00<00:00, 245.54it/s]\n",
            "Meshing: 100%|██████████| 13812/13812 [00:03<00:00, 3836.27it/s]\n"
          ]
        }
      ]
    }
  ]
}